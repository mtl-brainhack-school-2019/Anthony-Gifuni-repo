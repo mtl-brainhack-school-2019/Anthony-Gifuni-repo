{
 "cells": [
  {
   "cell_type": "markdown",
   "metadata": {
    "slideshow": {
     "slide_type": "slide"
    }
   },
   "source": [
    "# fMRI analysis with Nistat python package\n"
   ]
  },
  {
   "cell_type": "markdown",
   "metadata": {
    "slideshow": {
     "slide_type": "slide"
    }
   },
   "source": [
    "# Nistats \n",
    "\n",
    "\"Python module for fast and easy functional MRI statistical analysis.\n",
    "\n",
    "It leverages Nilearn, Nibabel and other Python libraries from the Python scientific stack like Scipy, Numpy and Pandas.\n",
    "\n",
    "This work is based on developments initiated in the nipy nipy project. It is made available by a community of people, amongst which the INRIA Parietal Project Team and D’esposito lab at Berkeley.\"\n",
    "\n",
    "Source: https://nistats.github.io/\n"
   ]
  },
  {
   "cell_type": "markdown",
   "metadata": {
    "slideshow": {
     "slide_type": "slide"
    }
   },
   "source": [
    "# Data exploration of Cyberball Dataset\n",
    "\n",
    "![](http://www.english.cam.ac.uk/research/cogblog/wp-content/uploads/2017/10/cyberball.png)"
   ]
  },
  {
   "cell_type": "code",
   "execution_count": 16,
   "metadata": {
    "slideshow": {
     "slide_type": "skip"
    }
   },
   "outputs": [],
   "source": [
    "%matplotlib inline\n",
    "\n",
    "import warnings; warnings.simplefilter('ignore')"
   ]
  },
  {
   "cell_type": "code",
   "execution_count": 17,
   "metadata": {
    "slideshow": {
     "slide_type": "skip"
    }
   },
   "outputs": [],
   "source": [
    "#Import required packages\n",
    "import os\n",
    "import pandas as pd\n",
    "import numpy as np\n",
    "import matplotlib.pyplot as plt\n",
    "\n",
    "from nilearn import plotting\n",
    "from nistats.first_level_model import FirstLevelModel\n",
    "from nistats.reporting import plot_design_matrix, plot_contrast_matrix\n",
    "from IPython.display import Image\n",
    "\n",
    "\n"
   ]
  },
  {
   "cell_type": "code",
   "execution_count": 18,
   "metadata": {
    "slideshow": {
     "slide_type": "skip"
    }
   },
   "outputs": [],
   "source": [
    "#Defining Data Directory\n",
    "data_dir = '/Volumes/2019/BIDS'"
   ]
  },
  {
   "cell_type": "code",
   "execution_count": 19,
   "metadata": {
    "slideshow": {
     "slide_type": "skip"
    }
   },
   "outputs": [],
   "source": [
    "#Task label\n",
    "task_label = 'CB'\n",
    "space_name = 'MNI152NLin2009cAsym'"
   ]
  },
  {
   "cell_type": "code",
   "execution_count": 20,
   "metadata": {
    "slideshow": {
     "slide_type": "skip"
    }
   },
   "outputs": [],
   "source": [
    "#List of subjects\n",
    "list_subjects = ['sub-501',\n",
    "'sub-502',\n",
    "'sub-503',\n",
    "'sub-504',\n",
    "#'sub-505',\n",
    "'sub-506',\n",
    "'sub-507',\n",
    "'sub-508',\n",
    "'sub-509',\n",
    "'sub-511',\n",
    "'sub-512',\n",
    "'sub-513',\n",
    "'sub-514',\n",
    "'sub-515',\n",
    "'sub-516',\n",
    "'sub-518',\n",
    "'sub-519',\n",
    "'sub-520',\n",
    "'sub-521',\n",
    "'sub-523',\n",
    "'sub-524',\n",
    "'sub-525',\n",
    "'sub-526',\n",
    "'sub-527',\n",
    "'sub-528',\n",
    "'sub-529',\n",
    "'sub-530',\n",
    "#'sub-531',\n",
    "'sub-532',\n",
    "'sub-533',\n",
    "'sub-534',\n",
    "'sub-535',\n",
    "'sub-536',\n",
    "'sub-537',\n",
    "#'sub-539',\n",
    "'sub-540',\n",
    "'sub-541',\n",
    "'sub-542',\n",
    "'sub-543',\n",
    "'sub-544',\n",
    "'sub-545',\n",
    "'sub-546',\n",
    "'sub-547',\n",
    "'sub-548',\n",
    "'sub-549',\n",
    "'sub-551',\n",
    "'sub-552',\n",
    "'sub-553',\n",
    "'sub-557',\n",
    "'sub-558',\n",
    "'sub-559',\n",
    "'sub-560',\n",
    "'sub-562',\n",
    "'sub-563',\n",
    "'sub-564',\n",
    "'sub-565',\n",
    "'sub-567',\n",
    "'sub-568',\n",
    "'sub-569',\n",
    "'sub-570',\n",
    "'sub-571',\n",
    "'sub-573',\n",
    "'sub-574',\n",
    "'sub-575',\n",
    "#'sub-701',\n",
    "'sub-702',\n",
    "'sub-703',\n",
    "'sub-705',\n",
    "'sub-707',\n",
    "'sub-708',\n",
    "'sub-709',\n",
    "'sub-711',\n",
    "'sub-712',\n",
    "'sub-713',\n",
    "'sub-715',\n",
    "'sub-716',\n",
    "'sub-717',\n",
    "'sub-718',\n",
    "'sub-719',\n",
    "'sub-720',\n",
    "'sub-721',\n",
    "'sub-722',\n",
    "'sub-723',\n",
    "'sub-724',\n",
    "'sub-725',\n",
    "#'sub-726',\n",
    "'sub-727',\n",
    "'sub-728',\n",
    "'sub-729',\n",
    "'sub-730',\n",
    "'sub-732',\n",
    "'sub-733',\n",
    "#'sub-734',\n",
    "'sub-735',\n",
    "'sub-736',\n",
    "'sub-737',\n",
    "'sub-738',\n",
    "'sub-739']\n",
    "\n",
    "\n"
   ]
  },
  {
   "cell_type": "code",
   "execution_count": 21,
   "metadata": {},
   "outputs": [],
   "source": [
    "# Number of subjects\n",
    "N=len(list_subjects)"
   ]
  },
  {
   "cell_type": "code",
   "execution_count": 22,
   "metadata": {},
   "outputs": [],
   "source": [
    "# fMRI parameters\n",
    "t_r=3.0"
   ]
  },
  {
   "cell_type": "markdown",
   "metadata": {
    "slideshow": {
     "slide_type": "slide"
    }
   },
   "source": [
    "## Creating `models`\n",
    "\n"
   ]
  },
  {
   "cell_type": "code",
   "execution_count": 23,
   "metadata": {
    "slideshow": {
     "slide_type": "subslide"
    }
   },
   "outputs": [],
   "source": [
    "models = []\n",
    "for i in range(0,N):\n",
    "    models.append(FirstLevelModel(t_r=t_r,\n",
    "                                period_cut=128,\n",
    "                                drift_model=None,\n",
    "                                hrf_model='spm',\n",
    "                                smoothing_fwhm=8,\n",
    "                                subject_label=list_subjects[i][4:7]))"
   ]
  },
  {
   "cell_type": "markdown",
   "metadata": {
    "slideshow": {
     "slide_type": "slide"
    }
   },
   "source": [
    "## Creating `models_run_imgs`"
   ]
  },
  {
   "cell_type": "code",
   "execution_count": 24,
   "metadata": {
    "slideshow": {
     "slide_type": "subslide"
    }
   },
   "outputs": [],
   "source": [
    "models_run_imgs=[]\n",
    "for sub in list_subjects:\n",
    "    run_img = [data_dir + '/derivatives/' + sub + '/func/' + sub + \"_task-\" + task_label + '_space-' + space_name + '_desc-preproc_bold.nii.gz']\n",
    "    models_run_imgs.append(run_img)"
   ]
  },
  {
   "cell_type": "code",
   "execution_count": 25,
   "metadata": {
    "slideshow": {
     "slide_type": "skip"
    }
   },
   "outputs": [
    {
     "data": {
      "text/plain": [
       "[['/Volumes/2019/BIDS/derivatives/sub-501/func/sub-501_task-CB_space-MNI152NLin2009cAsym_desc-preproc_bold.nii.gz'],\n",
       " ['/Volumes/2019/BIDS/derivatives/sub-502/func/sub-502_task-CB_space-MNI152NLin2009cAsym_desc-preproc_bold.nii.gz'],\n",
       " ['/Volumes/2019/BIDS/derivatives/sub-503/func/sub-503_task-CB_space-MNI152NLin2009cAsym_desc-preproc_bold.nii.gz'],\n",
       " ['/Volumes/2019/BIDS/derivatives/sub-504/func/sub-504_task-CB_space-MNI152NLin2009cAsym_desc-preproc_bold.nii.gz'],\n",
       " ['/Volumes/2019/BIDS/derivatives/sub-506/func/sub-506_task-CB_space-MNI152NLin2009cAsym_desc-preproc_bold.nii.gz']]"
      ]
     },
     "execution_count": 25,
     "metadata": {},
     "output_type": "execute_result"
    }
   ],
   "source": [
    "models_run_imgs[0:5]"
   ]
  },
  {
   "cell_type": "markdown",
   "metadata": {
    "slideshow": {
     "slide_type": "slide"
    }
   },
   "source": [
    "## Creating `models_events`"
   ]
  },
  {
   "cell_type": "code",
   "execution_count": 26,
   "metadata": {
    "slideshow": {
     "slide_type": "subslide"
    }
   },
   "outputs": [],
   "source": [
    "models_events = []\n",
    "event_file = pd.read_table(data_dir + '/task-' + task_label + '_events.tsv')\n",
    "for sub in list_subjects:\n",
    "    models_events.append([event_file])"
   ]
  },
  {
   "cell_type": "code",
   "execution_count": 27,
   "metadata": {
    "slideshow": {
     "slide_type": "subslide"
    }
   },
   "outputs": [
    {
     "data": {
      "text/html": [
       "<div>\n",
       "<style scoped>\n",
       "    .dataframe tbody tr th:only-of-type {\n",
       "        vertical-align: middle;\n",
       "    }\n",
       "\n",
       "    .dataframe tbody tr th {\n",
       "        vertical-align: top;\n",
       "    }\n",
       "\n",
       "    .dataframe thead th {\n",
       "        text-align: right;\n",
       "    }\n",
       "</style>\n",
       "<table border=\"1\" class=\"dataframe\">\n",
       "  <thead>\n",
       "    <tr style=\"text-align: right;\">\n",
       "      <th></th>\n",
       "      <th>onset</th>\n",
       "      <th>duration</th>\n",
       "      <th>trial_type</th>\n",
       "    </tr>\n",
       "  </thead>\n",
       "  <tbody>\n",
       "    <tr>\n",
       "      <th>0</th>\n",
       "      <td>0</td>\n",
       "      <td>189</td>\n",
       "      <td>control</td>\n",
       "    </tr>\n",
       "    <tr>\n",
       "      <th>1</th>\n",
       "      <td>198</td>\n",
       "      <td>189</td>\n",
       "      <td>inclusion</td>\n",
       "    </tr>\n",
       "    <tr>\n",
       "      <th>2</th>\n",
       "      <td>396</td>\n",
       "      <td>60</td>\n",
       "      <td>inclusion</td>\n",
       "    </tr>\n",
       "    <tr>\n",
       "      <th>3</th>\n",
       "      <td>456</td>\n",
       "      <td>129</td>\n",
       "      <td>exclusion</td>\n",
       "    </tr>\n",
       "  </tbody>\n",
       "</table>\n",
       "</div>"
      ],
      "text/plain": [
       "   onset  duration trial_type\n",
       "0      0       189    control\n",
       "1    198       189  inclusion\n",
       "2    396        60  inclusion\n",
       "3    456       129  exclusion"
      ]
     },
     "execution_count": 27,
     "metadata": {},
     "output_type": "execute_result"
    }
   ],
   "source": [
    "models_events[0][0]"
   ]
  },
  {
   "cell_type": "markdown",
   "metadata": {
    "slideshow": {
     "slide_type": "slide"
    }
   },
   "source": [
    "## Creating `models_confounds`"
   ]
  },
  {
   "cell_type": "code",
   "execution_count": 28,
   "metadata": {
    "slideshow": {
     "slide_type": "subslide"
    }
   },
   "outputs": [],
   "source": [
    "models_confounds = []\n",
    "\n",
    "for sub in list_subjects:\n",
    "    confound_file = [pd.read_table(data_dir + '/derivatives/' + sub + '/func/' + sub + \"_task-\" + task_label + '_desc-confounds_regressors.tsv')]\n",
    "    models_confounds.append(confound_file)\n",
    "    "
   ]
  },
  {
   "cell_type": "code",
   "execution_count": 29,
   "metadata": {
    "slideshow": {
     "slide_type": "fragment"
    }
   },
   "outputs": [
    {
     "name": "stdout",
     "output_type": "stream",
     "text": [
      "(0, 'csf')\n",
      "(1, 'csf_derivative1')\n",
      "(2, 'csf_derivative1_power2')\n",
      "(3, 'csf_power2')\n",
      "(4, 'white_matter')\n",
      "(5, 'white_matter_derivative1')\n",
      "(6, 'white_matter_power2')\n",
      "(7, 'white_matter_derivative1_power2')\n",
      "(8, 'global_signal')\n",
      "(9, 'global_signal_derivative1')\n",
      "(10, 'global_signal_derivative1_power2')\n",
      "(11, 'global_signal_power2')\n",
      "(12, 'std_dvars')\n",
      "(13, 'dvars')\n",
      "(14, 'framewise_displacement')\n",
      "(15, 't_comp_cor_00')\n",
      "(16, 't_comp_cor_01')\n",
      "(17, 't_comp_cor_02')\n",
      "(18, 't_comp_cor_03')\n",
      "(19, 'a_comp_cor_00')\n",
      "(20, 'a_comp_cor_01')\n",
      "(21, 'a_comp_cor_02')\n",
      "(22, 'a_comp_cor_03')\n",
      "(23, 'a_comp_cor_04')\n",
      "(24, 'a_comp_cor_05')\n",
      "(25, 'a_comp_cor_06')\n",
      "(26, 'a_comp_cor_07')\n",
      "(27, 'a_comp_cor_08')\n",
      "(28, 'a_comp_cor_09')\n",
      "(29, 'a_comp_cor_10')\n",
      "(30, 'a_comp_cor_11')\n",
      "(31, 'a_comp_cor_12')\n",
      "(32, 'a_comp_cor_13')\n",
      "(33, 'a_comp_cor_14')\n",
      "(34, 'a_comp_cor_15')\n",
      "(35, 'a_comp_cor_16')\n",
      "(36, 'a_comp_cor_17')\n",
      "(37, 'a_comp_cor_18')\n",
      "(38, 'a_comp_cor_19')\n",
      "(39, 'a_comp_cor_20')\n",
      "(40, 'a_comp_cor_21')\n",
      "(41, 'a_comp_cor_22')\n",
      "(42, 'a_comp_cor_23')\n",
      "(43, 'a_comp_cor_24')\n",
      "(44, 'a_comp_cor_25')\n",
      "(45, 'a_comp_cor_26')\n",
      "(46, 'a_comp_cor_27')\n",
      "(47, 'a_comp_cor_28')\n",
      "(48, 'a_comp_cor_29')\n",
      "(49, 'a_comp_cor_30')\n",
      "(50, 'a_comp_cor_31')\n",
      "(51, 'a_comp_cor_32')\n",
      "(52, 'a_comp_cor_33')\n",
      "(53, 'a_comp_cor_34')\n",
      "(54, 'a_comp_cor_35')\n",
      "(55, 'a_comp_cor_36')\n",
      "(56, 'a_comp_cor_37')\n",
      "(57, 'a_comp_cor_38')\n",
      "(58, 'a_comp_cor_39')\n",
      "(59, 'a_comp_cor_40')\n",
      "(60, 'a_comp_cor_41')\n",
      "(61, 'a_comp_cor_42')\n",
      "(62, 'a_comp_cor_43')\n",
      "(63, 'a_comp_cor_44')\n",
      "(64, 'a_comp_cor_45')\n",
      "(65, 'a_comp_cor_46')\n",
      "(66, 'a_comp_cor_47')\n",
      "(67, 'a_comp_cor_48')\n",
      "(68, 'a_comp_cor_49')\n",
      "(69, 'a_comp_cor_50')\n",
      "(70, 'a_comp_cor_51')\n",
      "(71, 'a_comp_cor_52')\n",
      "(72, 'a_comp_cor_53')\n",
      "(73, 'a_comp_cor_54')\n",
      "(74, 'a_comp_cor_55')\n",
      "(75, 'a_comp_cor_56')\n",
      "(76, 'a_comp_cor_57')\n",
      "(77, 'a_comp_cor_58')\n",
      "(78, 'a_comp_cor_59')\n",
      "(79, 'a_comp_cor_60')\n",
      "(80, 'a_comp_cor_61')\n",
      "(81, 'a_comp_cor_62')\n",
      "(82, 'a_comp_cor_63')\n",
      "(83, 'a_comp_cor_64')\n",
      "(84, 'a_comp_cor_65')\n",
      "(85, 'a_comp_cor_66')\n",
      "(86, 'a_comp_cor_67')\n",
      "(87, 'a_comp_cor_68')\n",
      "(88, 'a_comp_cor_69')\n",
      "(89, 'a_comp_cor_70')\n",
      "(90, 'a_comp_cor_71')\n",
      "(91, 'a_comp_cor_72')\n",
      "(92, 'a_comp_cor_73')\n",
      "(93, 'a_comp_cor_74')\n",
      "(94, 'a_comp_cor_75')\n",
      "(95, 'a_comp_cor_76')\n",
      "(96, 'a_comp_cor_77')\n",
      "(97, 'a_comp_cor_78')\n",
      "(98, 'a_comp_cor_79')\n",
      "(99, 'a_comp_cor_80')\n",
      "(100, 'a_comp_cor_81')\n",
      "(101, 'a_comp_cor_82')\n",
      "(102, 'a_comp_cor_83')\n",
      "(103, 'a_comp_cor_84')\n",
      "(104, 'a_comp_cor_85')\n",
      "(105, 'a_comp_cor_86')\n",
      "(106, 'a_comp_cor_87')\n",
      "(107, 'a_comp_cor_88')\n",
      "(108, 'a_comp_cor_89')\n",
      "(109, 'a_comp_cor_90')\n",
      "(110, 'a_comp_cor_91')\n",
      "(111, 'a_comp_cor_92')\n",
      "(112, 'a_comp_cor_93')\n",
      "(113, 'a_comp_cor_94')\n",
      "(114, 'a_comp_cor_95')\n",
      "(115, 'a_comp_cor_96')\n",
      "(116, 'a_comp_cor_97')\n",
      "(117, 'a_comp_cor_98')\n",
      "(118, 'a_comp_cor_99')\n",
      "(119, 'a_comp_cor_100')\n",
      "(120, 'a_comp_cor_101')\n",
      "(121, 'a_comp_cor_102')\n",
      "(122, 'a_comp_cor_103')\n",
      "(123, 'a_comp_cor_104')\n",
      "(124, 'a_comp_cor_105')\n",
      "(125, 'a_comp_cor_106')\n",
      "(126, 'a_comp_cor_107')\n",
      "(127, 'a_comp_cor_108')\n",
      "(128, 'a_comp_cor_109')\n",
      "(129, 'a_comp_cor_110')\n",
      "(130, 'a_comp_cor_111')\n",
      "(131, 'a_comp_cor_112')\n",
      "(132, 'a_comp_cor_113')\n",
      "(133, 'a_comp_cor_114')\n",
      "(134, 'a_comp_cor_115')\n",
      "(135, 'a_comp_cor_116')\n",
      "(136, 'a_comp_cor_117')\n",
      "(137, 'a_comp_cor_118')\n",
      "(138, 'a_comp_cor_119')\n",
      "(139, 'a_comp_cor_120')\n",
      "(140, 'a_comp_cor_121')\n",
      "(141, 'a_comp_cor_122')\n",
      "(142, 'a_comp_cor_123')\n",
      "(143, 'a_comp_cor_124')\n",
      "(144, 'a_comp_cor_125')\n",
      "(145, 'a_comp_cor_126')\n",
      "(146, 'a_comp_cor_127')\n",
      "(147, 'a_comp_cor_128')\n",
      "(148, 'a_comp_cor_129')\n",
      "(149, 'a_comp_cor_130')\n",
      "(150, 'cosine00')\n",
      "(151, 'cosine01')\n",
      "(152, 'cosine02')\n",
      "(153, 'cosine03')\n",
      "(154, 'cosine04')\n",
      "(155, 'cosine05')\n",
      "(156, 'cosine06')\n",
      "(157, 'cosine07')\n",
      "(158, 'trans_x')\n",
      "(159, 'trans_x_derivative1')\n",
      "(160, 'trans_x_power2')\n",
      "(161, 'trans_x_derivative1_power2')\n",
      "(162, 'trans_y')\n",
      "(163, 'trans_y_derivative1')\n",
      "(164, 'trans_y_power2')\n",
      "(165, 'trans_y_derivative1_power2')\n",
      "(166, 'trans_z')\n",
      "(167, 'trans_z_derivative1')\n",
      "(168, 'trans_z_derivative1_power2')\n",
      "(169, 'trans_z_power2')\n",
      "(170, 'rot_x')\n",
      "(171, 'rot_x_derivative1')\n",
      "(172, 'rot_x_derivative1_power2')\n",
      "(173, 'rot_x_power2')\n",
      "(174, 'rot_y')\n",
      "(175, 'rot_y_derivative1')\n",
      "(176, 'rot_y_derivative1_power2')\n",
      "(177, 'rot_y_power2')\n",
      "(178, 'rot_z')\n",
      "(179, 'rot_z_derivative1')\n",
      "(180, 'rot_z_derivative1_power2')\n",
      "(181, 'rot_z_power2')\n",
      "(182, 'motion_outlier00')\n",
      "(183, 'motion_outlier01')\n",
      "(184, 'motion_outlier02')\n",
      "(185, 'motion_outlier03')\n",
      "(186, 'motion_outlier04')\n"
     ]
    }
   ],
   "source": [
    "for var in enumerate(models_confounds[0][0].columns):\n",
    "    print(var)"
   ]
  },
  {
   "cell_type": "markdown",
   "metadata": {
    "slideshow": {
     "slide_type": "slide"
    }
   },
   "source": [
    "## Running a basic model"
   ]
  },
  {
   "cell_type": "code",
   "execution_count": 30,
   "metadata": {
    "slideshow": {
     "slide_type": "subslide"
    }
   },
   "outputs": [],
   "source": [
    "first_level_model_fit_list = []\n",
    "design_matrices = []\n",
    "\n",
    "for index, mod in enumerate(models):\n",
    "    fit = mod.fit(models_run_imgs[index][0], events=models_events[index][0])\n",
    "    first_level_model_fit_list.append(fit)\n",
    "    dmat = fit.design_matrices_[0]\n",
    "    design_matrices.append(dmat)"
   ]
  },
  {
   "cell_type": "code",
   "execution_count": 31,
   "metadata": {
    "scrolled": true,
    "slideshow": {
     "slide_type": "slide"
    }
   },
   "outputs": [
    {
     "data": {
      "image/png": "[encoded data removed]",
      "text/plain": [
       "<Figure size 432x288 with 1 Axes>"
      ]
     },
     "metadata": {
      "needs_background": "light"
     },
     "output_type": "display_data"
    }
   ],
   "source": [
    "plot_design_matrix(design_matrices[0])\n",
    "plt.show()"
   ]
  },
  {
   "cell_type": "markdown",
   "metadata": {
    "slideshow": {
     "slide_type": "slide"
    }
   },
   "source": [
    "# Creating contrasts"
   ]
  },
  {
   "cell_type": "code",
   "execution_count": null,
   "metadata": {
    "slideshow": {
     "slide_type": "subslide"
    }
   },
   "outputs": [],
   "source": [
    "def make_localizer_contrasts(design_matrix):\n",
    "    \"\"\" returns a dictionary of four contrasts, given the design matrix\"\"\"\n",
    "\n",
    "    # first generate canonical contrasts \n",
    "    contrast_matrix = np.eye(design_matrix.shape[1])\n",
    "    contrasts = dict([(column, contrast_matrix[i])\n",
    "                      for i, column in enumerate(design_matrix.columns)])\n",
    "\n",
    "    # Add more complex contrasts\n",
    "    contrasts['Inclusion-Control'] = (contrasts['inclusion'] - contrasts['control'])\n",
    "    contrasts['Exclusion-Control'] = (contrasts['exclusion'] - contrasts['control'])\n",
    "    contrasts['Exclusion-Inclusion'] = (contrasts['exclusion'] - contrasts['inclusion'])\n",
    "    \n",
    "    contrasts = {\n",
    "        'Inclusion-Control' : contrasts['Inclusion-Control'],\n",
    "        'Exclusion-Control': contrasts['Exclusion-Control'],\n",
    "        'Exclusion-Inclusion': contrasts['Exclusion-Inclusion']\n",
    "    }\n",
    "    return contrasts"
   ]
  },
  {
   "cell_type": "code",
   "execution_count": null,
   "metadata": {
    "slideshow": {
     "slide_type": "slide"
    }
   },
   "outputs": [],
   "source": [
    "contrasts = make_localizer_contrasts(design_matrices[0])"
   ]
  },
  {
   "cell_type": "code",
   "execution_count": null,
   "metadata": {
    "slideshow": {
     "slide_type": "subslide"
    }
   },
   "outputs": [],
   "source": [
    "contrasts"
   ]
  },
  {
   "cell_type": "code",
   "execution_count": null,
   "metadata": {
    "slideshow": {
     "slide_type": "slide"
    }
   },
   "outputs": [],
   "source": [
    "plt.figure(figsize=(5, 9))\n",
    "for i, (key, values) in enumerate(contrasts.items()):\n",
    "    ax = plt.subplot(7, 1, i + 1)\n",
    "    plot_contrast_matrix(values, design_matrix=design_matrices[0], ax=ax)\n",
    "\n",
    "plt.show()"
   ]
  },
  {
   "cell_type": "code",
   "execution_count": null,
   "metadata": {
    "slideshow": {
     "slide_type": "slide"
    }
   },
   "outputs": [],
   "source": [
    "def plot_contrast(first_level_model):\n",
    "    \"\"\" Given a first model, specify, enstimate and plot the main contrasts\"\"\"\n",
    "    design_matrix = first_level_model.design_matrices_[0]\n",
    "    # Call the contrast specification within the function\n",
    "    contrasts = make_localizer_contrasts(design_matrix)\n",
    "    fig = plt.figure(figsize=(9, 20))\n",
    "    # compute the per-contrast z-map\n",
    "    for index, (contrast_id, contrast_val) in enumerate(contrasts.items()):\n",
    "        ax = plt.subplot(len(contrasts), 1, 1 + index)\n",
    "        z_map = first_level_model.compute_contrast(\n",
    "            contrast_val, output_type='z_score')\n",
    "        plotting.plot_stat_map(\n",
    "            z_map, display_mode='ortho', threshold=3.0, title=contrast_id, axes=ax)"
   ]
  },
  {
   "cell_type": "code",
   "execution_count": null,
   "metadata": {
    "slideshow": {
     "slide_type": "slide"
    }
   },
   "outputs": [],
   "source": [
    "plot_contrast(first_level_model_fit_list[0])\n",
    "plt.show()"
   ]
  },
  {
   "cell_type": "code",
   "execution_count": null,
   "metadata": {
    "slideshow": {
     "slide_type": "slide"
    }
   },
   "outputs": [],
   "source": [
    "plot_contrast(first_level_model_fit_list[1])\n",
    "plt.show()"
   ]
  },
  {
   "cell_type": "code",
   "execution_count": null,
   "metadata": {
    "slideshow": {
     "slide_type": "slide"
    }
   },
   "outputs": [],
   "source": [
    "def plot_contrast_glass(first_level_model):\n",
    "    \"\"\" Given a first model, specify, enstimate and plot the main contrasts\"\"\"\n",
    "    design_matrix = first_level_model.design_matrices_[0]\n",
    "    # Call the contrast specification within the function\n",
    "    contrasts = make_localizer_contrasts(design_matrix)\n",
    "    fig = plt.figure(figsize=(9, 20))\n",
    "    # compute the per-contrast z-map\n",
    "    for index, (contrast_id, contrast_val) in enumerate(contrasts.items()):\n",
    "        ax = plt.subplot(len(contrasts), 1, 1 + index)\n",
    "        z_map = first_level_model.compute_contrast(\n",
    "            contrast_val, output_type='z_score')\n",
    "        plotting.plot_glass_brain(\n",
    "            z_map, display_mode='ortho',colorbar=True, threshold=6.0, title=contrast_id, axes=ax)"
   ]
  },
  {
   "cell_type": "code",
   "execution_count": null,
   "metadata": {
    "slideshow": {
     "slide_type": "slide"
    }
   },
   "outputs": [],
   "source": [
    "plot_contrast_glass(first_level_model_fit_list[1])\n",
    "plt.show()"
   ]
  },
  {
   "cell_type": "markdown",
   "metadata": {
    "slideshow": {
     "slide_type": "slide"
    }
   },
   "source": [
    "## Saving our first-level contrasts map"
   ]
  },
  {
   "cell_type": "code",
   "execution_count": null,
   "metadata": {
    "slideshow": {
     "slide_type": "slide"
    }
   },
   "outputs": [],
   "source": [
    "# Create a function that saves the contrast maps of interest\n",
    "\n",
    "output_dir = '/Volumes/2019/BIDS/derivatives/results/func/CB/'\n",
    "\n",
    "def save_contrast(first_level_model):\n",
    "    \"\"\" Given a first model, specify, estimate and save the main contrasts\"\"\"\n",
    "    design_matrix = first_level_model.design_matrices_[0]\n",
    "    # Call the contrast specification within the function\n",
    "    contrasts = make_localizer_contrasts(design_matrix)\n",
    "    # compute the per-contrast z-map\n",
    "    for index, (contrast_id, contrast_val) in enumerate(contrasts.items()):\n",
    "        z_map = first_level_model.compute_contrast(\n",
    "            contrast_val, output_type='z_score')\n",
    "        filename =output_dir + 'sub-' + first_level_model.subject_label + '_contrast-' + contrast_id + '_model-' + 'simple' + '_zmap.nii.gz'\n",
    "        z_map.to_filename(filename)\n"
   ]
  },
  {
   "cell_type": "code",
   "execution_count": null,
   "metadata": {
    "slideshow": {
     "slide_type": "subslide"
    }
   },
   "outputs": [],
   "source": [
    "for model in first_level_model_fit_list:\n",
    "    save_contrast(model)"
   ]
  }
 ],
 "metadata": {
  "celltoolbar": "Diaporama",
  "kernelspec": {
   "display_name": "Python 3",
   "language": "python",
   "name": "python3"
  },
  "language_info": {
   "codemirror_mode": {
    "name": "ipython",
    "version": 3
   },
   "file_extension": ".py",
   "mimetype": "text/x-python",
   "name": "python",
   "nbconvert_exporter": "python",
   "pygments_lexer": "ipython3",
   "version": "3.7.1"
  }
 },
 "nbformat": 4,
 "nbformat_minor": 2
}
